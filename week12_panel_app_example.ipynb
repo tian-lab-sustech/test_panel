{
 "cells": [
  {
   "cell_type": "code",
   "execution_count": 4,
   "metadata": {},
   "outputs": [],
   "source": [
    "import numpy as np\n",
    "import hvplot.pandas\n",
    "import hvplot as hv\n",
    "import seaborn as sns\n",
    "import panel as pn\n",
    "import pandas as pd\n",
    "from os.path import dirname, join\n",
    "\n",
    "\n",
    "df = pd.read_csv('iris.csv')\n",
    "\n",
    "x = pn.widgets.Select(name='x', options=['sepal_width', 'petal_width'])\n",
    "y = pn.widgets.Select(name='y', options=['sepal_length', 'petal_length'])\n",
    "kind = pn.widgets.Select(name='kind', options=['scatter','bivariate'])\n",
    "color_by = pn.widgets.Checkbox(name='color by species')\n",
    "\n",
    "@pn.depends(x, y, kind, color_by)\n",
    "def make_plot(x, y, kind, color_by):\n",
    "    if color_by == True:\n",
    "        color  = 'species'\n",
    "    else:\n",
    "        color = None\n",
    "    plot = df.hvplot(x = x, y = y, kind=kind,by = color,width = 400)    \n",
    "    return plot\n",
    "\n",
    "template  = pn.template.FastListTemplate( site = 'MED5018', title = 'Iris',\n",
    "sidebar = [x,y, kind, color_by],\n",
    "main = [make_plot]).servable()"
   ]
  },
  {
   "cell_type": "code",
   "execution_count": null,
   "metadata": {},
   "outputs": [],
   "source": []
  }
 ],
 "metadata": {
  "kernelspec": {
   "display_name": "Python 3 (ipykernel)",
   "language": "python",
   "name": "python3"
  },
  "language_info": {
   "codemirror_mode": {
    "name": "ipython",
    "version": 3
   },
   "file_extension": ".py",
   "mimetype": "text/x-python",
   "name": "python",
   "nbconvert_exporter": "python",
   "pygments_lexer": "ipython3",
   "version": "3.10.0"
  }
 },
 "nbformat": 4,
 "nbformat_minor": 4
}
